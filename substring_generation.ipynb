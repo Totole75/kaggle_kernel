{
 "cells": [
  {
   "cell_type": "code",
   "execution_count": 1,
   "metadata": {},
   "outputs": [],
   "source": [
    "import os\n",
    "import matplotlib.pyplot as plt\n",
    "from sklearn.cluster import KMeans\n",
    "from sklearn.metrics.pairwise import euclidean_distances\n",
    "from sklearn.manifold import TSNE\n",
    "import seaborn as sns\n",
    "from tqdm import tqdm\n",
    "import time\n",
    "from numba import jit, autojit, prange\n",
    "\n",
    "import tools\n",
    "from kernel import linear_kernel\n",
    "from algorithm import *\n",
    "from tools import *\n",
    "\n",
    "folder_name = \"data\""
   ]
  },
  {
   "cell_type": "code",
   "execution_count": 2,
   "metadata": {},
   "outputs": [],
   "source": [
    "file_idx = 1\n",
    "\n",
    "train_file_name = \"Xtr\" + str(file_idx) + \".csv\"\n",
    "result_file_name = \"Ytr\"+ str(file_idx) +\".csv\"\n",
    "test_file_name = \"Xte\" + str(file_idx) + \".csv\""
   ]
  },
  {
   "cell_type": "code",
   "execution_count": 3,
   "metadata": {},
   "outputs": [],
   "source": [
    "\"\"\"\n",
    "training_percentage = 0.9\n",
    "data_array = tools.read_file(os.path.join(folder_name, train_file_name))\n",
    "result_array = tools.read_file(os.path.join(folder_name, result_file_name))\n",
    "training_nb = round(training_percentage*len(data_array))\n",
    "training_array = data_array[:training_nb]\n",
    "training_labels = result_array[:training_nb]\n",
    "test_array = data_array[training_nb:]\n",
    "test_labels = result_array[training_nb:]\n",
    "\"\"\"\n",
    "data_array_train = tools.read_file(os.path.join(folder_name, train_file_name))\n",
    "data_array_test = tools.read_file(os.path.join(folder_name, test_file_name))"
   ]
  },
  {
   "cell_type": "code",
   "execution_count": 4,
   "metadata": {},
   "outputs": [
    {
     "name": "stdout",
     "output_type": "stream",
     "text": [
      "(2000, 100) (1000, 100)\n",
      "(3000, 100)\n"
     ]
    }
   ],
   "source": [
    "print(data_array_train.shape, data_array_test.shape)\n",
    "data_array = np.concatenate((data_array_train, data_array_test))\n",
    "print(data_array.shape)"
   ]
  },
  {
   "cell_type": "code",
   "execution_count": 5,
   "metadata": {},
   "outputs": [],
   "source": [
    "def compute_kernel_cell(str_a, str_b, k, lmb):\n",
    "    len_a = len(str_a)\n",
    "    len_b = len(str_b)\n",
    "    \n",
    "    # Computing the recursive side function B\n",
    "    rec_val = np.zeros((k+1, len_a+1, len_b+1))\n",
    "    rec_val[0, :, :] = np.ones((len_a+1, len_b+1))\n",
    "    # Initialization\n",
    "    #for cur_k in range(1, k+1):\n",
    "    #    for cur_i in range(len_a+1):\n",
    "    #        for cur_j in range(len_b+1):\n",
    "    #            if (min(cur_i, cur_j) < cur_k):\n",
    "    #                rec_val[cur_k, cur_i, cur_j] = 0\n",
    "    # Completing the array of the recursion function\n",
    "    for cur_k in range(1, k+1):\n",
    "        for cur_i in range(cur_k, len_a+1):\n",
    "            for cur_j in range(cur_k, len_b+1):\n",
    "                rec_val[cur_k, cur_i, cur_j] = lmb*(rec_val[cur_k, cur_i-1, cur_j] + rec_val[cur_k, cur_i, cur_j-1] - lmb*rec_val[cur_k, cur_i-1, cur_j-1])\n",
    "                if (str_a[cur_i-1] == str_b[cur_j-1]):\n",
    "                    rec_val[cur_k, cur_i, cur_j] += lmb*lmb*rec_val[cur_k-1, cur_i-1, cur_j-1]\n",
    "    \n",
    "    # Computing the final value\n",
    "    ker_val = np.zeros((len_a+1, len_b+1))\n",
    "    # Initialization\n",
    "    #for cur_i in range(len_a+1):\n",
    "    #    for cur_j in range(len_b+1):\n",
    "    #        if (min(cur_i, cur_j) < k):\n",
    "    #            ker_val[cur_i, cur_j] = 0\n",
    "    # Finishing\n",
    "    for cur_i in range(k-1, len_a):\n",
    "        sec_term = 0\n",
    "        for cur_j in range(1, k+1):\n",
    "            if (str_b[cur_j-1] == str_a[cur_i]):\n",
    "                sec_term += rec_val[k-1, cur_i, cur_j-1]\n",
    "        ker_val[cur_i+1, k] = ker_val[cur_i, k] + lmb*lmb*sec_term\n",
    "    for cur_j in range(k, len_b):\n",
    "        sec_term = 0\n",
    "        for cur_i in range(1, len_a+1):\n",
    "            if (str_a[cur_i-1] == str_b[cur_j]):\n",
    "                sec_term += rec_val[k-1, cur_i-1, cur_j]\n",
    "        ker_val[len_a, cur_j+1] = ker_val[len_a, cur_j] + lmb*lmb*sec_term\n",
    "        \n",
    "    return ker_val[len_a, len_b]"
   ]
  },
  {
   "cell_type": "code",
   "execution_count": 6,
   "metadata": {},
   "outputs": [],
   "source": [
    "@jit(nopython=True, fastmath=True)\n",
    "def compute_B(str_a, str_b, len_a, len_b, k, lmb, rec_val):\n",
    "    for cur_k in range(1, k+1):\n",
    "        for cur_i in range(cur_k, len_a+1):\n",
    "            for cur_j in range(cur_k, len_b+1):\n",
    "                rec_val[cur_k, cur_i, cur_j] = lmb*(rec_val[cur_k, cur_i-1, cur_j] + rec_val[cur_k, cur_i, cur_j-1] - lmb*rec_val[cur_k, cur_i-1, cur_j-1])\n",
    "                if (str_a[cur_i-1] == str_b[cur_j-1]):\n",
    "                    rec_val[cur_k, cur_i, cur_j] += lmb*lmb*rec_val[cur_k-1, cur_i-1, cur_j-1]\n",
    "    return rec_val\n",
    "\n",
    "@jit(nopython=True, fastmath=True)\n",
    "def compute_kernel_cell2(str_a, str_b, k, lmb):\n",
    "    len_a = len(str_a)\n",
    "    len_b = len(str_b)\n",
    "    \n",
    "    # Computing the recursive side function B\n",
    "    rec_val = np.zeros((k+1, len_a+1, len_b+1))\n",
    "    rec_val[0, :, :] = np.ones((len_a+1, len_b+1))\n",
    "    # Initialization\n",
    "    #for cur_k in range(1, k+1):\n",
    "    #    for cur_i in range(len_a+1):\n",
    "    #        for cur_j in range(len_b+1):\n",
    "    #            if (min(cur_i, cur_j) < cur_k):\n",
    "    #                rec_val[cur_k, cur_i, cur_j] = 0\n",
    "    # Completing the array of the recursion function\n",
    "    rec_val = compute_B(str_a, str_b, len_a, len_b, k, lmb, rec_val)\n",
    "    \n",
    "    # Computing the final value\n",
    "    ker_val = np.zeros((len_a+1, len_b+1))\n",
    "    # Initialization\n",
    "    #for cur_i in range(len_a+1):\n",
    "    #    for cur_j in range(len_b+1):\n",
    "    #        if (min(cur_i, cur_j) < k):\n",
    "    #            ker_val[cur_i, cur_j] = 0\n",
    "    # Finishing\n",
    "    for cur_i in range(k-1, len_a):\n",
    "        sec_term = 0\n",
    "        for cur_j in range(1, k+1):\n",
    "            if (str_b[cur_j-1] == str_a[cur_i]):\n",
    "                sec_term += rec_val[k-1, cur_i, cur_j-1]\n",
    "        ker_val[cur_i+1, k] = ker_val[cur_i, k] + lmb*lmb*sec_term\n",
    "    for cur_j in range(k, len_b):\n",
    "        sec_term = 0\n",
    "        for cur_i in range(1, len_a+1):\n",
    "            if (str_a[cur_i-1] == str_b[cur_j]):\n",
    "                sec_term += rec_val[k-1, cur_i-1, cur_j]\n",
    "        ker_val[len_a, cur_j+1] = ker_val[len_a, cur_j] + lmb*lmb*sec_term\n",
    "        \n",
    "    return ker_val[len_a, len_b]"
   ]
  },
  {
   "cell_type": "code",
   "execution_count": 7,
   "metadata": {},
   "outputs": [],
   "source": [
    "@jit(nopython=True, parallel=True)\n",
    "def compute_kernel(data_array, k , lmb):\n",
    "    str_nb = data_array.shape[0]\n",
    "    kernel_array = np.zeros((str_nb, str_nb))\n",
    "    for i in prange(str_nb):\n",
    "        for j in range(i, str_nb):\n",
    "            kernel_value = compute_kernel_cell2(data_array[i], data_array[j], k, lmb)\n",
    "            kernel_array[i,j] = kernel_value\n",
    "            kernel_array[j,i] = kernel_value\n",
    "    return kernel_array"
   ]
  },
  {
   "cell_type": "code",
   "execution_count": 8,
   "metadata": {},
   "outputs": [],
   "source": [
    "def transform_array(data_array):\n",
    "    res_array = np.zeros((len(data_array), len(data_array[0])))\n",
    "    for str_idx in range(len(data_array)):\n",
    "        for idx in range(len(data_array[0])):\n",
    "            res_array[str_idx, idx] = ord(data_array[str_idx][idx])\n",
    "    return res_array"
   ]
  },
  {
   "cell_type": "code",
   "execution_count": 9,
   "metadata": {},
   "outputs": [
    {
     "name": "stdout",
     "output_type": "stream",
     "text": [
      "(3000, 100)\n"
     ]
    }
   ],
   "source": [
    "reduced_array = data_array\n",
    "print(reduced_array.shape)\n",
    "str_nb = len(reduced_array)\n",
    "\n",
    "reduced_array = transform_array(reduced_array)"
   ]
  },
  {
   "cell_type": "code",
   "execution_count": 10,
   "metadata": {},
   "outputs": [
    {
     "name": "stdout",
     "output_type": "stream",
     "text": [
      "16065.34541054997\n",
      "0.08600664138793945\n",
      "\n",
      "16065.345410549973\n",
      "1.8003623485565186\n"
     ]
    }
   ],
   "source": [
    "time1 = time.time()\n",
    "#compute_kernel_cell(\"car\", \"car\", 2, 2)\n",
    "value = compute_kernel_cell(reduced_array[0], reduced_array[1], 3, 0.8)\n",
    "time2 = time.time()\n",
    "# renvoie 2*lmb**4 + lmb**6\n",
    "print(value)\n",
    "print(time2-time1)\n",
    "# entre 0.43 et 0.48 globalement\n",
    "\n",
    "print(\"\")\n",
    "\n",
    "time1 = time.time()\n",
    "#compute_kernel_cell(\"car\", \"car\", 2, 2)\n",
    "value = compute_kernel_cell2(reduced_array[0], reduced_array[1], 3, 0.8)\n",
    "time2 = time.time()\n",
    "print(value)\n",
    "print(time2-time1)"
   ]
  },
  {
   "cell_type": "code",
   "execution_count": 11,
   "metadata": {},
   "outputs": [],
   "source": [
    "k = 8\n",
    "lmb = 0.3"
   ]
  },
  {
   "cell_type": "code",
   "execution_count": 12,
   "metadata": {},
   "outputs": [
    {
     "name": "stdout",
     "output_type": "stream",
     "text": [
      "2.064072608947754\n"
     ]
    }
   ],
   "source": [
    "time1 = time.time()\n",
    "res_array = compute_kernel(reduced_array[:2], k, lmb)\n",
    "time2 = time.time()\n",
    "print(time2-time1)"
   ]
  },
  {
   "cell_type": "code",
   "execution_count": 13,
   "metadata": {},
   "outputs": [
    {
     "name": "stdout",
     "output_type": "stream",
     "text": [
      "1787.5379769802094\n"
     ]
    }
   ],
   "source": [
    "time1 = time.time()\n",
    "res_array = compute_kernel(reduced_array, k, lmb)\n",
    "time2 = time.time()\n",
    "print(time2-time1)"
   ]
  },
  {
   "cell_type": "code",
   "execution_count": 20,
   "metadata": {},
   "outputs": [
    {
     "name": "stdout",
     "output_type": "stream",
     "text": [
      "[[2.38623124e-06 3.75101861e-08 1.97616336e-07 ... 1.63929920e-07\n",
      "  3.29597293e-08 4.82178404e-08]\n",
      " [3.75101861e-08 2.14945642e-06 8.91291070e-08 ... 5.89230820e-08\n",
      "  8.88915229e-08 1.44057608e-07]\n",
      " [1.97616336e-07 8.91291070e-08 1.90626012e-06 ... 7.56236287e-08\n",
      "  1.10351668e-07 5.96786747e-08]\n",
      " ...\n",
      " [1.63929920e-07 5.89230820e-08 7.56236287e-08 ... 3.25025407e-06\n",
      "  1.31979038e-07 1.05519245e-07]\n",
      " [3.29597293e-08 8.88915229e-08 1.10351668e-07 ... 1.31979038e-07\n",
      "  2.41864618e-06 6.26802618e-08]\n",
      " [4.82178404e-08 1.44057608e-07 5.96786747e-08 ... 1.05519245e-07\n",
      "  6.26802618e-08 2.42900451e-06]]\n"
     ]
    }
   ],
   "source": [
    "print(res_array)"
   ]
  },
  {
   "cell_type": "code",
   "execution_count": 14,
   "metadata": {},
   "outputs": [],
   "source": [
    "save_res = res_array"
   ]
  },
  {
   "cell_type": "code",
   "execution_count": 16,
   "metadata": {},
   "outputs": [
    {
     "name": "stdout",
     "output_type": "stream",
     "text": [
      "(3000, 3000)\n"
     ]
    }
   ],
   "source": [
    "print(res_array.shape)"
   ]
  },
  {
   "cell_type": "code",
   "execution_count": 17,
   "metadata": {},
   "outputs": [],
   "source": [
    "np.save(\"substring_test\"+str(file_idx)+\".npy\", res_array)"
   ]
  },
  {
   "cell_type": "markdown",
   "metadata": {},
   "source": [
    "# Other stuff, for testing purposes"
   ]
  },
  {
   "cell_type": "code",
   "execution_count": null,
   "metadata": {},
   "outputs": [],
   "source": [
    "str_a = \"car\"\n",
    "str_b = \"car\"\n",
    "k=2\n",
    "lmb=2\n",
    "compute_kernel_cell2(str_a, str_b, k, lmb)"
   ]
  },
  {
   "cell_type": "code",
   "execution_count": null,
   "metadata": {},
   "outputs": [],
   "source": [
    "k = 3\n",
    "lmb = 0.5\n",
    "\n",
    "#test_arr = np.array([['c','a','r'], ['b','a','t']])\n",
    "test_arr = data_array[[0, 1999], :]\n",
    "test_arr = transform_array(test_arr)\n",
    "print(test_arr)\n",
    "ker = compute_kernel(test_arr, 3, lmb)\n",
    "print(ker)"
   ]
  },
  {
   "cell_type": "code",
   "execution_count": null,
   "metadata": {},
   "outputs": [],
   "source": [
    "file_idx_test = 2\n",
    "thingy = np.load(\"substring_test\"+str(file_idx_test)+\".npy\")\n",
    "print(thingy)\n",
    "print(thingy.max(), thingy.min())"
   ]
  },
  {
   "cell_type": "code",
   "execution_count": null,
   "metadata": {},
   "outputs": [],
   "source": []
  },
  {
   "cell_type": "code",
   "execution_count": null,
   "metadata": {},
   "outputs": [],
   "source": []
  },
  {
   "cell_type": "code",
   "execution_count": null,
   "metadata": {},
   "outputs": [],
   "source": [
    "file_idx = 0\n",
    "\n",
    "train_file_name = \"Xtr\" + str(file_idx) + \".csv\"\n",
    "result_file_name = \"Ytr\"+ str(file_idx) +\".csv\"\n",
    "test_file_name = \"Xte\" + str(file_idx) + \".csv\"\n",
    "\n",
    "training_percentage = 0.9\n",
    "data_array = tools.read_file(os.path.join(folder_name, train_file_name))\n",
    "#data_array = [data_str.replace('\\n', '') for data_str in data_array]\n",
    "result_array = tools.read_file(os.path.join(folder_name, result_file_name))\n",
    "training_nb = round(training_percentage*len(data_array))\n",
    "training_array = data_array[:training_nb]\n",
    "training_labels = result_array[:training_nb]\n",
    "test_array = data_array[training_nb:]\n",
    "test_labels = result_array[training_nb:]\n",
    "\n",
    "print(test_labels)"
   ]
  }
 ],
 "metadata": {
  "kernelspec": {
   "display_name": "Python 3",
   "language": "python",
   "name": "python3"
  },
  "language_info": {
   "codemirror_mode": {
    "name": "ipython",
    "version": 3
   },
   "file_extension": ".py",
   "mimetype": "text/x-python",
   "name": "python",
   "nbconvert_exporter": "python",
   "pygments_lexer": "ipython3",
   "version": "3.6.7"
  }
 },
 "nbformat": 4,
 "nbformat_minor": 2
}
